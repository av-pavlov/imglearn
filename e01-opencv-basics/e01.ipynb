{
 "cells": [
  {
   "cell_type": "markdown",
   "metadata": {},
   "source": [
    "# e01 - Basics\n",
    "Это – тетрадка Jupyter. Вывод в клетках тетрадки, когда вы ее открываете, если он есть – это кэшированный вывод. Чтобы выполнить клетку, поместите в нее курсор и нажмите `Shift+Enter`. Клетки передаются интерпретатору в том порядке, в котором вы это делаете, не обязательно сверху вниз\n",
    "\n",
    "## Читаем jpg, смотрим на размер и тип объекта"
   ]
  },
  {
   "cell_type": "code",
   "execution_count": null,
   "metadata": {},
   "outputs": [],
   "source": [
    "%matplotlib inline\n",
    "\n",
    "import matplotlib.pyplot as plt\n",
    "import numpy as np\n",
    "import cv2\n",
    "\n",
    "img = cv2.imread('myimage.jpg')\n",
    "img.shape"
   ]
  },
  {
   "cell_type": "code",
   "execution_count": null,
   "metadata": {},
   "outputs": [],
   "source": [
    "type(img)"
   ]
  },
  {
   "cell_type": "markdown",
   "metadata": {},
   "source": [
    "## BGR vs RGB"
   ]
  },
  {
   "cell_type": "code",
   "execution_count": null,
   "metadata": {},
   "outputs": [],
   "source": [
    "plt.imshow(img)"
   ]
  },
  {
   "cell_type": "markdown",
   "metadata": {},
   "source": [
    "Проблема с цветом на картинке выше – в том, что matpoltlib ожидает порядок цветов RGB, а OpenCV использует BGR. Можно вручную перетасовать цвета в тройках, взяв индексы в обратном порядке по последней координате:"
   ]
  },
  {
   "cell_type": "code",
   "execution_count": null,
   "metadata": {},
   "outputs": [],
   "source": [
    "plt.imshow(img[:,:,::-1])"
   ]
  },
  {
   "cell_type": "markdown",
   "metadata": {},
   "source": [
    "Можно использовать явно функции преобразования цвета в OpenCV:"
   ]
  },
  {
   "cell_type": "code",
   "execution_count": null,
   "metadata": {},
   "outputs": [],
   "source": [
    "img2 = cv2.cvtColor(img, cv2.COLOR_BGR2RGB)\n",
    "plt.imshow(img2)"
   ]
  },
  {
   "cell_type": "markdown",
   "metadata": {},
   "source": [
    "## Сохранение файлов"
   ]
  },
  {
   "cell_type": "code",
   "execution_count": null,
   "metadata": {},
   "outputs": [],
   "source": [
    "img_bw = cv2.cvtColor(img, cv2.COLOR_BGR2GRAY) # преобразуем изображение в ч/б\n",
    "cv2.imwrite('myimage_bw.jpg', img_bw)"
   ]
  },
  {
   "cell_type": "markdown",
   "metadata": {},
   "source": [
    "##  Чтение grayscale файлов"
   ]
  },
  {
   "cell_type": "code",
   "execution_count": null,
   "metadata": {},
   "outputs": [],
   "source": [
    "im3 = cv2.imread('myimage_bw.jpg')\n",
    "im3.shape"
   ]
  },
  {
   "cell_type": "markdown",
   "metadata": {},
   "source": [
    "По умолчанию изображение трехканальное. Даже если в файле оно в градациях серого. Если изображение хочется получить в одом канале яркости, нужно указать вторым аргументом режим:"
   ]
  },
  {
   "cell_type": "code",
   "execution_count": null,
   "metadata": {},
   "outputs": [],
   "source": [
    "im3 = cv2.imread('myimage_bw.jpg', cv2.IMREAD_GRAYSCALE)\n",
    "im3.shape"
   ]
  },
  {
   "cell_type": "markdown",
   "metadata": {},
   "source": [
    "## Чтение видеофайлов\n",
    "\n",
    "Зачитаем и отобразим первые 15 кадров видеофайла `myvideo.mp4` (by [\"What's In John's Freezer?\"](https://www.youtube.com/watch?v=uNFURmUo8b0))."
   ]
  },
  {
   "cell_type": "code",
   "execution_count": null,
   "metadata": {},
   "outputs": [],
   "source": [
    "cap = cv2.VideoCapture('myvideo.mp4') \n",
    "fig, ax = plt.subplots(3, 5)\n",
    "for i, axi in enumerate(ax.flat):\n",
    "    ret, frame = cap.read()\n",
    "    axi.imshow(frame)\n",
    "    axi.set(xticks=[], yticks=[],\n",
    "        xlabel=str(i))"
   ]
  },
  {
   "cell_type": "markdown",
   "metadata": {},
   "source": [
    "## Захват видео с камеры\n",
    "Если вместо названия видеофайла указать число, это номер веб-камеры. Код ниже использует интерфейсные окна cv2. Поэтому его надо запускать не из тетрадки, а из командной строки (файл `video_capture.py`). Функция waitKey ожидает нажатия любой клавиши заданное число миллисекунд, возвращает код клавиши. Мы проверяем его младший байт. Если клавиша - `q`, цикл прерывается, веб-камера освобождается, окна закрываются."
   ]
  },
  {
   "cell_type": "markdown",
   "metadata": {},
   "source": [
    "import cv2\n",
    "\tcap = cv2.VideoCapture(0)\n",
    "\n",
    "\twhile(True):\n",
    "\t    # Получить очередной кадр\n",
    "\t    ret, frame = cap.read()\n",
    "\n",
    "\t    # Преобразовать в ч/б\n",
    "\t    gray = cv2.cvtColor(frame, cv2.COLOR_BGR2GRAY)    \n",
    "\n",
    "\t    # Нарисовать подсказку о выходе\n",
    "\t    cv2.putText(gray, \"Press `q` to quit\", (20,20), cv2.FONT_HERSHEY_SIMPLEX, 1, 0)\n",
    "\n",
    "\t    # Показать\n",
    "\t    cv2.imshow('Video Capture Test',gray)\n",
    "\n",
    "\t    # Если нажата q, выйти, иначе начать снова\n",
    "\t    if cv2.waitKey(1) & 0xFF == ord('q'):\n",
    "\t        break\n",
    "\n",
    "\t# Закрыть камеру и окна \n",
    "\tcap.release()\n",
    "\tcv2.destroyAllWindows()\n"
   ]
  }
 ],
 "metadata": {
  "kernelspec": {
   "display_name": "Python 3",
   "language": "python",
   "name": "python3"
  },
  "language_info": {
   "codemirror_mode": {
    "name": "ipython",
    "version": 3
   },
   "file_extension": ".py",
   "mimetype": "text/x-python",
   "name": "python",
   "nbconvert_exporter": "python",
   "pygments_lexer": "ipython3",
   "version": "3.6.6"
  }
 },
 "nbformat": 4,
 "nbformat_minor": 2
}
